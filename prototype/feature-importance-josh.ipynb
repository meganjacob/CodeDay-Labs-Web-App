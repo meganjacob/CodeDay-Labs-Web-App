{
 "cells": [
  {
   "cell_type": "code",
   "execution_count": 42,
   "id": "5b191f51",
   "metadata": {},
   "outputs": [],
   "source": [
    "import pandas as pd"
   ]
  },
  {
   "cell_type": "code",
   "execution_count": 43,
   "id": "55388204",
   "metadata": {},
   "outputs": [],
   "source": [
    "df_raw = pd.read_csv(\"parkinsons.data\")\n",
    "df_raw.pop(\"name\")\n",
    "y = df_raw.iloc[:,16]\n",
    "X = df_raw.iloc[:,df_raw.columns != \"status\"]"
   ]
  },
  {
   "cell_type": "code",
   "execution_count": 44,
   "id": "338f828b",
   "metadata": {},
   "outputs": [],
   "source": [
    "from sklearn.datasets import make_regression\n",
    "from sklearn.linear_model import LinearRegression"
   ]
  },
  {
   "cell_type": "code",
   "execution_count": 45,
   "id": "98b89cc0",
   "metadata": {},
   "outputs": [],
   "source": [
    "X, y = make_regression(n_samples = 195, n_features = 22, n_informative = 10, random_state = 1)\n",
    "\n",
    "model = LinearRegression()\n",
    "model.fit(X, y)\n",
    "importance = model.coef_"
   ]
  },
  {
   "cell_type": "code",
   "execution_count": 46,
   "id": "c4964e4d",
   "metadata": {},
   "outputs": [
    {
     "name": "stdout",
     "output_type": "stream",
     "text": [
      "Feature: 0, Score: 94.46374\n",
      "Feature: 1, Score: 87.24286\n",
      "Feature: 2, Score: -0.00000\n",
      "Feature: 3, Score: -0.00000\n",
      "Feature: 4, Score: -0.00000\n",
      "Feature: 5, Score: 66.65324\n",
      "Feature: 6, Score: 59.56554\n",
      "Feature: 7, Score: -0.00000\n",
      "Feature: 8, Score: 64.77912\n",
      "Feature: 9, Score: 83.65955\n",
      "Feature: 10, Score: 0.00000\n",
      "Feature: 11, Score: 62.92984\n",
      "Feature: 12, Score: -0.00000\n",
      "Feature: 13, Score: -0.00000\n",
      "Feature: 14, Score: 0.00000\n",
      "Feature: 15, Score: 0.00000\n",
      "Feature: 16, Score: 89.77392\n",
      "Feature: 17, Score: -0.00000\n",
      "Feature: 18, Score: -0.00000\n",
      "Feature: 19, Score: 81.34575\n",
      "Feature: 20, Score: 34.43490\n",
      "Feature: 21, Score: 0.00000\n"
     ]
    }
   ],
   "source": [
    "for i,v in enumerate(importance):\n",
    "    print('Feature: %0d, Score: %.5f' % (i, v))"
   ]
  },
  {
   "cell_type": "code",
   "execution_count": null,
   "id": "5d0cb547",
   "metadata": {},
   "outputs": [],
   "source": []
  }
 ],
 "metadata": {
  "kernelspec": {
   "display_name": "Python 3",
   "language": "python",
   "name": "python3"
  },
  "language_info": {
   "codemirror_mode": {
    "name": "ipython",
    "version": 3
   },
   "file_extension": ".py",
   "mimetype": "text/x-python",
   "name": "python",
   "nbconvert_exporter": "python",
   "pygments_lexer": "ipython3",
   "version": "3.8.8"
  }
 },
 "nbformat": 4,
 "nbformat_minor": 5
}
