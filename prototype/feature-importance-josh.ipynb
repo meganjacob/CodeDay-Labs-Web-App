{
 "cells": [
  {
   "cell_type": "code",
   "execution_count": 13,
   "id": "4071bd1d",
   "metadata": {},
   "outputs": [],
   "source": [
    "import pandas as pd"
   ]
  },
  {
   "cell_type": "code",
   "execution_count": 14,
   "id": "6408fbc9",
   "metadata": {},
   "outputs": [],
   "source": [
    "df_raw = pd.read_csv(\"parkinsons.data\")\n",
    "df_raw.pop(\"name\")\n",
    "y = df_raw.iloc[:,16]\n",
    "X = df_raw.iloc[:,:16]"
   ]
  },
  {
   "cell_type": "code",
   "execution_count": 15,
   "id": "819a61a6",
   "metadata": {},
   "outputs": [],
   "source": [
    "from sklearn.datasets import make_regression\n",
    "from sklearn.linear_model import LinearRegression"
   ]
  },
  {
   "cell_type": "code",
   "execution_count": 19,
   "id": "7ca1ff32",
   "metadata": {},
   "outputs": [],
   "source": [
    "X, y = make_regression(n_samples = 195, n_features = 16, n_informative = 5, random_state = 1)\n",
    "\n",
    "model = LinearRegression()\n",
    "model.fit(X, y)\n",
    "importance = model.coef_"
   ]
  },
  {
   "cell_type": "code",
   "execution_count": 20,
   "id": "bd0b98f9",
   "metadata": {},
   "outputs": [
    {
     "name": "stdout",
     "output_type": "stream",
     "text": [
      "Feature: 0, Score: 9.14679\n",
      "Feature: 1, Score: 0.00000\n",
      "Feature: 2, Score: 0.00000\n",
      "Feature: 3, Score: -0.00000\n",
      "Feature: 4, Score: 30.08894\n",
      "Feature: 5, Score: 0.00000\n",
      "Feature: 6, Score: 0.00000\n",
      "Feature: 7, Score: 0.00000\n",
      "Feature: 8, Score: 97.55420\n",
      "Feature: 9, Score: 6.80858\n",
      "Feature: 10, Score: 0.00000\n",
      "Feature: 11, Score: 0.00000\n",
      "Feature: 12, Score: 90.43453\n",
      "Feature: 13, Score: -0.00000\n",
      "Feature: 14, Score: 0.00000\n",
      "Feature: 15, Score: -0.00000\n"
     ]
    }
   ],
   "source": [
    "for i,v in enumerate(importance):\n",
    "    print('Feature: %0d, Score: %.5f' % (i, v))"
   ]
  },
  {
   "cell_type": "code",
   "execution_count": null,
   "id": "5875121f",
   "metadata": {},
   "outputs": [],
   "source": []
  }
 ],
 "metadata": {
  "kernelspec": {
   "display_name": "Python 3",
   "language": "python",
   "name": "python3"
  },
  "language_info": {
   "codemirror_mode": {
    "name": "ipython",
    "version": 3
   },
   "file_extension": ".py",
   "mimetype": "text/x-python",
   "name": "python",
   "nbconvert_exporter": "python",
   "pygments_lexer": "ipython3",
   "version": "3.8.8"
  }
 },
 "nbformat": 4,
 "nbformat_minor": 5
}
