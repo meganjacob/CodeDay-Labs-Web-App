{
 "cells": [
  {
   "cell_type": "code",
   "execution_count": 47,
   "id": "9423a8c0",
   "metadata": {},
   "outputs": [],
   "source": [
    "import pandas as pd"
   ]
  },
  {
   "cell_type": "code",
   "execution_count": 48,
   "id": "db199ac2",
   "metadata": {},
   "outputs": [],
   "source": [
    "df_raw = pd.read_csv(\"parkinsons.data\")\n",
    "df_raw.pop(\"name\")\n",
    "y = df_raw.iloc[:,16]\n",
    "X = df_raw.iloc[:,df_raw.columns != \"status\"]"
   ]
  },
  {
   "cell_type": "code",
   "execution_count": 49,
   "id": "4e39efe5",
   "metadata": {},
   "outputs": [],
   "source": [
    "from sklearn.datasets import make_regression\n",
    "from sklearn.linear_model import LinearRegression"
   ]
  },
  {
   "cell_type": "code",
   "execution_count": 50,
   "id": "ea367682",
   "metadata": {},
   "outputs": [],
   "source": [
    "X, y = make_regression(n_samples = 195, n_features = 22, n_informative = 22, random_state = 1)\n",
    "\n",
    "model = LinearRegression()\n",
    "model.fit(X, y)\n",
    "importance = model.coef_"
   ]
  },
  {
   "cell_type": "code",
   "execution_count": 51,
   "id": "cf9d2c68",
   "metadata": {},
   "outputs": [
    {
     "name": "stdout",
     "output_type": "stream",
     "text": [
      "Feature: 0, Score: 87.24286\n",
      "Feature: 1, Score: 81.34575\n",
      "Feature: 2, Score: 94.46374\n",
      "Feature: 3, Score: 16.13087\n",
      "Feature: 4, Score: 10.33779\n",
      "Feature: 5, Score: 34.43490\n",
      "Feature: 6, Score: 53.45400\n",
      "Feature: 7, Score: 67.06123\n",
      "Feature: 8, Score: 99.77242\n",
      "Feature: 9, Score: 59.56554\n",
      "Feature: 10, Score: 66.65324\n",
      "Feature: 11, Score: 12.65457\n",
      "Feature: 12, Score: 39.09787\n",
      "Feature: 13, Score: 64.77912\n",
      "Feature: 14, Score: 83.65955\n",
      "Feature: 15, Score: 43.23810\n",
      "Feature: 16, Score: 56.12594\n",
      "Feature: 17, Score: 62.92984\n",
      "Feature: 18, Score: 54.11476\n",
      "Feature: 19, Score: 85.25635\n",
      "Feature: 20, Score: 89.77392\n",
      "Feature: 21, Score: 96.85687\n"
     ]
    }
   ],
   "source": [
    "for i,v in enumerate(importance):\n",
    "    print('Feature: %0d, Score: %.5f' % (i, v))"
   ]
  },
  {
   "cell_type": "code",
   "execution_count": null,
   "id": "13345f0c",
   "metadata": {},
   "outputs": [],
   "source": []
  }
 ],
 "metadata": {
  "kernelspec": {
   "display_name": "Python 3",
   "language": "python",
   "name": "python3"
  },
  "language_info": {
   "codemirror_mode": {
    "name": "ipython",
    "version": 3
   },
   "file_extension": ".py",
   "mimetype": "text/x-python",
   "name": "python",
   "nbconvert_exporter": "python",
   "pygments_lexer": "ipython3",
   "version": "3.8.8"
  }
 },
 "nbformat": 4,
 "nbformat_minor": 5
}
